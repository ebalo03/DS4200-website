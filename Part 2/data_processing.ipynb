{
 "cells": [
  {
   "cell_type": "code",
   "execution_count": null,
   "metadata": {},
   "outputs": [],
   "source": [
    "import pandas as pd\n",
    "\n",
    "data = pd.read_csv(\"socialMedia.csv\")\n",
    "\n",
    "# Create CSV with average likes by platform\n",
    "avg_data = data.groupby([\"Platform\", \"PostType\"])[\"Likes\"].mean()\n",
    "avg_data = avg_data.reset_index()\n",
    "avg_data = avg_data.rename(columns={\"Likes\": \"AvgLikes\"})\n",
    "avg_data.to_csv(\"socialMediaAvg.csv\", index=False)"
   ]
  },
  {
   "cell_type": "code",
   "execution_count": null,
   "metadata": {},
   "outputs": [],
   "source": [
    "# Create CSV with average likes by date\n",
    "time_data = data.groupby(\"Date\")[\"Likes\"].mean()\n",
    "time_data = avg_data.reset_index()\n",
    "time_data = time_data.drop('index', axis=1)\n",
    "time_data = time_data.rename(columns={\"Likes\": \"AvgLikes\"})\n",
    "time_data.to_csv(\"socialMediaDates.csv\", index=False)"
   ]
  }
 ],
 "metadata": {
  "kernelspec": {
   "display_name": "Python 3 (ipykernel)",
   "language": "python",
   "name": "python3"
  },
  "language_info": {
   "codemirror_mode": {
    "name": "ipython",
    "version": 3
   },
   "file_extension": ".py",
   "mimetype": "text/x-python",
   "name": "python",
   "nbconvert_exporter": "python",
   "pygments_lexer": "ipython3",
   "version": "3.12.4"
  }
 },
 "nbformat": 4,
 "nbformat_minor": 4
}
